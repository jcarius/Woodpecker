{
 "cells": [
  {
   "cell_type": "code",
   "execution_count": 1,
   "metadata": {
    "ExecuteTime": {
     "end_time": "2017-08-20T12:45:53.251968Z",
     "start_time": "2017-08-20T12:45:53.152644Z"
    },
    "code_folding": [
     0
    ]
   },
   "outputs": [
    {
     "data": {
      "text/html": [
       "<link href='http://fonts.googleapis.com/css?family=Alegreya+Sans:100,300,400,500,700,800,900,100italic,300italic,400italic,500italic,700italic,800italic,900italic' rel='stylesheet' type='text/css'>\n",
       "<link href='http://fonts.googleapis.com/css?family=Arvo:400,700,400italic' rel='stylesheet' type='text/css'>\n",
       "<link href='http://fonts.googleapis.com/css?family=PT+Mono' rel='stylesheet' type='text/css'>\n",
       "<link href='http://fonts.googleapis.com/css?family=Shadows+Into+Light' rel='stylesheet' type='text/css'>\n",
       "<link href='http://fonts.googleapis.com/css?family=Nixie+One' rel='stylesheet' type='text/css'>\n",
       "<link href='https://fonts.googleapis.com/css?family=Source+Code+Pro' rel='stylesheet' type='text/css'>\n",
       "<link href=\"https://fonts.googleapis.com/css?family=Roboto+Slab:300,400,700\" rel=\"stylesheet\">\n",
       "<style>\n",
       "\n",
       "@font-face {\n",
       "    font-family: \"Computer Modern\";\n",
       "    src: url('http://mirrors.ctan.org/fonts/cm-unicode/fonts/otf/cmunss.otf');\n",
       "}\n",
       "\n",
       "#notebook_panel { /* main background */\n",
       "    background: rgb(245,245,245);\n",
       "}\n",
       "\n",
       "div.cell { /* set cell width */\n",
       "    width: 1000px;\n",
       "}\n",
       "\n",
       "div #notebook { /* centre the content */\n",
       "    background: #fff; /* white background for content */\n",
       "    width: 1200px;\n",
       "    margin: auto;\n",
       "    padding-left: 0em;\n",
       "}\n",
       "\n",
       "#notebook li { /* More space between bullet points */\n",
       "    margin-top:0.8em;\n",
       "}\n",
       "\n",
       "/* draw border around running cells */\n",
       "div.cell.border-box-sizing.code_cell.running { \n",
       "    border: 1px solid #111;\n",
       "}\n",
       "\n",
       "/* Put a solid color box around each cell and its output, visually linking them*/\n",
       "div.cell.code_cell {\n",
       "    background-color: rgb(256,256,256); \n",
       "    border-radius: 0px; \n",
       "    padding: 0.5em;\n",
       "    margin-left:1em;\n",
       "    margin-top: 1em;\n",
       "}\n",
       "\n",
       "div.text_cell_render{\n",
       "    font-family: 'Alegreya Sans' sans-serif;\n",
       "    line-height: 140%;\n",
       "    font-size: 125%;\n",
       "    font-weight: 400;\n",
       "    width:900px;\n",
       "    margin-left:auto;\n",
       "    margin-right:auto;\n",
       "}\n",
       "\n",
       ".text_cell_render h1, .text_cell_render h2, .text_cell_render h3, .text_cell_render h4, .text_cell_render h5, .text_cell_render h6 {\n",
       "    font-family: 'Roboto Slab', serif;\n",
       "    font-weight: 400;\n",
       "}\n",
       "\n",
       "/* Formatting for header cells */\n",
       ".text_cell_render h1 { \n",
       "    font-size: 28pt;\n",
       "    line-height: 100%;\n",
       "    color: rgb(0,51,102);\n",
       "    margin-bottom: 0.2em;\n",
       "    margin-top: 0.5em;\n",
       "    display: block;\n",
       "}\n",
       "\n",
       ".text_cell_render h2 {\n",
       "    font-size: 24pt;\n",
       "    line-height: 100%;\n",
       "    color: rgb(0,51,102);\n",
       "    margin-bottom: 0.1em;\n",
       "    margin-top: 0.3em;\n",
       "    display: block;\n",
       "}\t\n",
       "\n",
       ".text_cell_render h3 {\n",
       "    margin-top:16px;\n",
       "    font-size: 20pt;\n",
       "    margin-bottom: 3px;\n",
       "    font-style: regular;\n",
       "    color: rgb(102,102,0);\n",
       "}\n",
       "\n",
       ".text_cell_render h4 {    /*Use this for captions*/\n",
       "    /*text-align: center;*/\n",
       "    margin-top: 1em;\n",
       "    margin-bottom: 1em;\n",
       "    font-style: regular;\n",
       "}\n",
       "\n",
       ".text_cell_render h5 {  /*Use this for small titles*/\n",
       "    font-size: 16pt;\n",
       "    color: rgb(163,0,0);\n",
       "    font-style: italic;\n",
       "    margin-bottom: .1em;\n",
       "    margin-top: 0.8em;\n",
       "    display: block;\n",
       "}\n",
       "\n",
       ".text_cell_render h6 { /*use this for copyright note*/\n",
       "    font-family: 'PT Mono', sans-serif;\n",
       "    font-weight: 300;\n",
       "    font-size: 12pt;\n",
       "    line-height: 100%;\n",
       "    color: grey;\n",
       "    margin-bottom: 1px;\n",
       "    margin-top: 1px;\n",
       "}\n",
       "\n",
       ".text_cell_render p {\n",
       "    text-align: justify\n",
       "}\n",
       "\n",
       ".CodeMirror{\n",
       "    font-family: \"Source Code Pro\";\n",
       "    font-size: 100%;\n",
       "}\n",
       "\n",
       ".alert-box {\n",
       "    padding:10px 10px 10px 36px;\n",
       "    margin:5px;\n",
       "}\n",
       "\n",
       ".success {\n",
       "    color:#666600;\n",
       "    background:rgb(240,242,229);\n",
       "}\n",
       "\n",
       "/* Custom Images with Caption*/\n",
       "\n",
       ".imgWithCaption\n",
       "{\n",
       "    text-align: center;\n",
       "        padding-top: 18pt;\n",
       "}\n",
       "\n",
       ".imgWithCaption > img:before\n",
       "{\n",
       "  content: '';\n",
       "  height: 100%;\n",
       "  display: inline-block;\n",
       "  vertical-align: middle;\n",
       "\n",
       "}\n",
       "\n",
       ".imgWithCaption > img\n",
       "{\n",
       "    padding: 5px;\n",
       "    display: inline-block;\n",
       "    vertical-align: middle;\n",
       "    border: 2pt solid #EEE;\n",
       "}\n",
       "\n",
       ".imgWithCaption > .caption\n",
       "{\n",
       "  margin: auto;\n",
       "  padding-top : 12pt;\n",
       "  padding-bottom : 12pt;\n",
       "  padding-left : 18pt;\n",
       "  padding-right : 18pt;\n",
       "  font-size: 12pt;\n",
       "}\n",
       "\n",
       "\n",
       "</style>\n",
       "\n",
       "<script>\n",
       "  \n",
       "\n",
       "  MathJax.Ajax.config.path[\"Contrib\"] = \"//cdn.mathjax.org/mathjax/contrib\";\n",
       "\n",
       "  MathJax.Hub.Config({\n",
       "          extensions: [ \"[Contrib]/counters/counters.js\" ],\n",
       "          \"HTML-CSS\": {\n",
       "              styles: {'.MathJax_Display': {\"margin\": 4}},\n",
       "              availableFonts: [\"Latin-Modern\",\"TeX\"],\n",
       "            preferredFont: \"TeX\",\n",
       "            webFont: \"TeX\"\n",
       "          },\n",
       "          TeX: {\n",
       "             extensions: [\"AMSmath.js\", \"AMSsymbols.js\", \"begingroup.js\",\"color.js\"],\n",
       "             equationNumbers: { autoNumber: \"all\" },\n",
       "             Augment: {\n",
       "               Definitions: {macros: {\n",
       "                 unitfrac: \"myUnitFrac\"\n",
       "               }},\n",
       "               Parse: {prototype: {\n",
       "                 myUnitFrac: function (name) {\n",
       "                   var n = this.GetBrackets(name),\n",
       "                       num = this.GetArgument(name),\n",
       "                       den = this.GetArgument(name);\n",
       "                   if (n == null) {n = \"\"}\n",
       "                   var tex = n + '\\\\,[\\\\text{'+num+'}/\\\\text{'+den+'}]';\n",
       "                   this.string = tex + this.string.slice(this.i); this.i = 0;\n",
       "                 }\n",
       "               }}\n",
       "             }\n",
       "             },\n",
       "          tex2jax: {\n",
       "              inlineMath: [ ['$','$'], [\"\\\\(\",\"\\\\)\"] ],\n",
       "              displayMath: [ ['$$','$$'], [\"\\\\[\",\"\\\\]\"] ]\n",
       "          },\n",
       "          displayAlign: 'center' \n",
       "  });\n",
       "\n",
       "\n",
       "\n",
       "  \n",
       "  \n",
       "  $(\"<style type='text/css'> .cell.code_cell.collapse { max-height:30px; overflow:hidden;} </style>\").appendTo(\"head\");\n",
       "  $('.prompt.input_prompt').on('click', function(event) {\n",
       "      console.log(\"CLICKED\", arguments)   \n",
       "      var c = $(event.target.closest('.cell.code_cell'))\n",
       "      if(c.hasClass('collapse')) {\n",
       "          c.removeClass('collapse');\n",
       "      } else {\n",
       "          c.addClass('collapse');\n",
       "      }\n",
       "  });\n",
       "  \n",
       "</script>"
      ],
      "text/plain": [
       "<IPython.core.display.HTML object>"
      ]
     },
     "execution_count": 1,
     "metadata": {},
     "output_type": "execute_result"
    }
   ],
   "source": [
    "# Execute this cell to load the notebook's style sheet, then ignore it\n",
    "from IPython.core.display import HTML\n",
    "css_file = 'styles.css'\n",
    "HTML(open(css_file, \"r\").read())"
   ]
  },
  {
   "cell_type": "code",
   "execution_count": 4,
   "metadata": {
    "ExecuteTime": {
     "end_time": "2017-08-20T12:45:54.867397Z",
     "start_time": "2017-08-20T12:45:53.264935Z"
    },
    "code_folding": [
     0
    ],
    "hide_input": false,
    "init_cell": true,
    "run_control": {
     "marked": false
    }
   },
   "outputs": [],
   "source": [
    "#Header\n",
    "import scipy\n",
    "import scipy.integrate as integrate\n",
    "import matplotlib as mpl\n",
    "mpl.use(\"nbagg\")\n",
    "import matplotlib.pyplot as plt\n",
    "import matplotlib.image as image\n",
    "import matplotlib.animation as animation\n",
    "\n",
    "\n",
    "#this works apparently only for savefig stuff\n",
    "mpl.rcParams['figure.figsize']=(6.0,4.0)    #(6.0,4.0)\n",
    "mpl.rcParams['font.size']=12                #10 \n",
    "mpl.rcParams['savefig.dpi']=400             #72 \n",
    "#mpl.rcParams['figure.subplot.bottom']=.1    #.125\n",
    "\n",
    "plt.rc('font', family='serif')\n",
    "plt.rc('text', usetex=False)\n",
    "plt.rc('figure' , autolayout = True)\n",
    "\n",
    "#inline stuff\n",
    "#%matplotlib inline\n",
    "# %config InlineBackend.figure_format='svg'\n",
    "# inlineConf ={'figure.facecolor': 'white', \n",
    "#     'figure.subplot.bottom': 0.125,\n",
    "#     'figure.edgecolor': 'white',\n",
    "#     'savefig.dpi': 400, \n",
    "#     'figure.figsize': (12.0, 8.0), \n",
    "#     'font.size': 12}\n",
    "# %config InlineBackend.rc = inlineConf\n",
    "\n",
    "import numpy as np\n",
    "from numpy.linalg import inv\n",
    "from numpy import sin, cos, pi, mat, array\n",
    "import time, copy\n",
    "from IPython.display import Image\n",
    "from IPython.core.debugger import set_trace\n",
    "\n",
    "π = np.pi"
   ]
  },
  {
   "cell_type": "markdown",
   "metadata": {
    "hide_input": true,
    "run_control": {
     "marked": true
    }
   },
   "source": [
    "# Simulating the Woodpecker Toy"
   ]
  },
  {
   "cell_type": "markdown",
   "metadata": {
    "hide_input": false,
    "run_control": {
     "marked": true
    }
   },
   "source": [
    "Michael Baumann, Gabriel Nützi, July 2017\n",
    "_________________________________________\n",
    "\n",
    "**Simulation of the woodpecker toy\n",
    "using Moreau's Timestepping scheme with SOR-prox method (for planar problems)**\n",
    "\n",
    "Model: http://www.zfm.ethz.ch/~glocker/PublicationPDF/Conference%20Proceedings/bw_2001_ASME_Pittsburgh.pdf\n",
    "\n",
    "<table style=\"background:#FFF;border-width:0pt;border-color:#AAAAAA;border-style:solid;\">\n",
    "    <tr style=\"background:#FFF;border-width:0pt;border-color:#AAAAAA;border-style:solid;\">\n",
    "    <td width=\"56%\" style=\"background:#FFF;border-width:0pt;border-color:#AAAAAA;border-style:solid;\">\n",
    "        <img src=\"graphics/woodpecker_toy.bmp\" style=\"width:100%;border-width:3pt;border-color:#AAAAAA;border-style:solid;\"/>\n",
    "    </td>\n",
    "    <td style=\"background:#FFF;border-width:0pt;border-color:#AAAAAA;border-style:solid;\">\n",
    "        <img src=\"graphics/woodpecker_model.png\" style=\"border-width:3pt;border-color:#AAAAAA;border-style:solid;\"/>\n",
    "    </td>\n",
    "    <tr>\n",
    "</table>\n",
    "<!--div style=\"width:100%;text-align:center;\">\n",
    "        <img src=\"WoodpeckerAnimation2.svg\" style=\"width:50%;border-width:3pt;border-color:#AAAAAA;border-style:solid;\"/>\n",
    "</div-->"
   ]
  },
  {
   "cell_type": "markdown",
   "metadata": {},
   "source": [
    "## Point Class\n",
    "A simple point class which is a (dim,nPoints) numpy.matrix where each column\n",
    "can be additinally accessed by `self.<pointName>` for convenience!\n",
    "```python\n",
    "points      = Points(np.mat(np.ones((2,3))), names=[\"a\",\"b\",\"c\"])\n",
    "points.a    = points.b + points.c\n",
    "points[\"a\"] = points[\"b\"] + points[\"c\"] \n",
    "```"
   ]
  },
  {
   "cell_type": "code",
   "execution_count": 6,
   "metadata": {
    "code_folding": [
     9
    ],
    "collapsed": true
   },
   "outputs": [],
   "source": [
    "class Points(np.matrixlib.defmatrix.matrix):\n",
    "    def __new__(cls, *args, names=[], **kwargs):\n",
    "        o = np.matrixlib.defmatrix.matrix.__new__(cls, *args, **kwargs)\n",
    "        # We need to adjust here __class__\n",
    "        # such that o is of type Points and the __init__ get\n",
    "        # automatically called\n",
    "        o.__class__ = Points\n",
    "        return o\n",
    "    \n",
    "    def __init__(self, *args, names=[], **kwargs):\n",
    "        assert(isinstance(names,list)) # Needs to be a list!\n",
    "        # Set the attribute self.<pointName> \n",
    "        # to a reference of the corresponding column\n",
    "        for i,name in enumerate(names):\n",
    "            self.__setattr__(name, self[:,i])\n",
    "            \n",
    "        # Set the point indices, for the __setattr__\n",
    "        self.__setattr__(\"pointIndices\", {t:i for i,t in enumerate(names)})\n",
    "        \n",
    "    def __setitem__(self, name, val):\n",
    "        \"\"\" This setter is needed for `self[<pointName>] = ...`  to work. \"\"\"\n",
    "        if isinstance(name,str) and hasattr(self, \"pointIndices\"):\n",
    "            if name in self.pointIndices:\n",
    "                self[:,self.pointIndices[name]] = val\n",
    "                return\n",
    "        super(Points, self).__setitem__(name, val)\n",
    "\n",
    "    def __getitem__(self, *args, **kwargs):\n",
    "        \"\"\" This setter is needed for getting points like `self[<pointName>]`\"\"\"\n",
    "        if isinstance(args[0],str) and hasattr(self, args[0]):\n",
    "            return getattr(self,args[0])\n",
    "        return super(Points, self).__getitem__(*args, **kwargs)\n",
    "    \n",
    "    def __setattr__(self,name,val):\n",
    "        \"\"\" This setter is needed, to make assignment work \n",
    "            (e.g self.<pointName> = np.mat([1,2,3]).T) \n",
    "            Without this setter: we would accidentally assign \n",
    "            self.<pointName> to a new object.\n",
    "        \"\"\"\n",
    "        if hasattr(self, \"pointIndices\"):\n",
    "            if name in self.pointIndices:\n",
    "                self[:,self.pointIndices[name]] = val\n",
    "                return\n",
    "        super(Points, self).__setattr__(name,val)"
   ]
  },
  {
   "cell_type": "markdown",
   "metadata": {
    "run_control": {
     "marked": true
    }
   },
   "source": [
    "## Class Woodpecker"
   ]
  },
  {
   "cell_type": "code",
   "execution_count": null,
   "metadata": {
    "ExecuteTime": {
     "end_time": "2017-08-20T12:46:01.534173Z",
     "start_time": "2017-08-20T12:45:55.150172Z"
    },
    "code_folding": [
     0
    ],
    "collapsed": true,
    "init_cell": true,
    "run_control": {
     "marked": false
    }
   },
   "outputs": [],
   "source": [
    "class State:\n",
    "    def __init__(self, q,u,t,PN,PT, γNA, γTA, γNE, γTE, IN=None):\n",
    "        self.q   = q.copy() # generalized coordinates y (height), phi_S (bird angle), phi_M (sleeve angle)\n",
    "        self.u   = u.copy() # generalized velocities\n",
    "        self.t   = t\n",
    "        self.PN  = PN.copy()\n",
    "        self.PT  = PT.copy()\n",
    "        self.γNA = γNA.copy() # relative contact velocities in normal     direction at beginning of period\n",
    "        self.γTA = γTA.copy() # relative contact velocities in tangential direction at beginning of period\n",
    "        self.γNE = γNE.copy() # relative contact velocities in normal     direction at end       of period\n",
    "        self.γTE = γTE.copy() # relative contact velocities in tangential direction at end       of period\n",
    "        self.IN  = IN\n",
    "        if self.IN is None:\n",
    "            self.IN = [False]*PN.shape[0]\n",
    "        \n",
    "class Woodpecker:\n",
    "    # initialization of class\n",
    "    def __init__(self,q0,u0, pardict):\n",
    "        q = np.mat(q0, dtype='float').T\n",
    "        u = np.mat(u0, dtype='float').T\n",
    "        t = 0\n",
    "     \n",
    "        self.qDim = len(q0);\n",
    "        self.uDim = len(u0);\n",
    "        \n",
    "        # read all parameters from dictionary pardict and store as attribute in (self.)p\n",
    "        self.p = type('Param', (), {})()\n",
    "        for k,v in pardict.items():\n",
    "            setattr(self.p,k,v)\n",
    "            \n",
    "        self.history = []\n",
    "        \n",
    "        self.nGZeros = zeros = mat(np.zeros(self.p.nG)).T\n",
    "        \n",
    "        γNE, γTE = self.getRelativeVelocities(q, u, t)\n",
    "        \n",
    "        # Push initial state\n",
    "        self.history.append(State(q,u,t,PN=zeros,PT=zeros, γNA=zeros, γTA=zeros, γNE=γNE, γTE=γTE))\n",
    "            \n",
    "    # mass matrix\n",
    "    def M(self,q,u,t):\n",
    "        p=self.p # parameters\n",
    "        y,ϕM,ϕS=q.A1 #gen coordinates\n",
    "        yd,ϕMd,ϕSd=u.A1 # gen velocities\n",
    "        return mat([(p.mS+p.mM, p.mS*p.lM, p.mS*p.lG),\n",
    "                    (p.mS*p.lM, p.JM+p.mS*p.lM**2, p.mS*p.lM*p.lG),\n",
    "                    (p.mS*p.lG, p.mS*p.lM*p.lG, p.JS+p.mS*p.lG**2)])\n",
    "    \n",
    "    # force vector\n",
    "    def h(self,q,u,t):\n",
    "        p=self.p # parameters\n",
    "        y,ϕM,ϕS=q.A1 #gen coordinates\n",
    "        yd,ϕMd,ϕSd=u.A1 # gen velocities\n",
    "        return mat([-(p.mS+p.mM)*p.g,\n",
    "                    -p.cϕ*(ϕM-ϕS)-p.mS*p.g*p.lM,\n",
    "                    -p.cϕ*(ϕS-ϕM)-p.mS*p.g*p.lG]).T\n",
    "    \n",
    "    # gap function : distances g_i of contact i = {1,2,3}\n",
    "    def gapFunction(self,q,u,t):\n",
    "        p=self.p # parameters\n",
    "        y,ϕM,ϕS=q.A1 #gen coordinates\n",
    "        yd,ϕMd,ϕSd=u.A1 # gen velocities\n",
    "        return mat([p.lM+p.lG-p.lS-p.r0-p.hS*ϕS,\n",
    "                    p.rM-p.r0+p.hM*ϕM,\n",
    "                    p.rM-p.r0-p.hM*ϕM]).T\n",
    "    \n",
    "    # force directions\n",
    "    def Wmat(self,q,u,t):\n",
    "        p=self.p # parameters\n",
    "        y,ϕM,ϕS=q.A1 #gen coordinates\n",
    "        yd,ϕMd,ϕSd=u.A1 # gen velocities\n",
    "        \n",
    "        #normal force directions\n",
    "        WN = mat([(0,     0,    0),\n",
    "                  (0,     p.hM, -p.hM),\n",
    "                  (-p.hS, 0,    0)])\n",
    "        \n",
    "        # constant component of normal contact velocity (see _getRelativeVelocities function)\n",
    "        wNhat = mat([0,\n",
    "                     0,\n",
    "                     0]).T\n",
    "        \n",
    "    \n",
    "        # tangential force directions\n",
    "        WT = mat([(1,         1,    1),\n",
    "                  (p.lM,      p.rM, p.rM),\n",
    "                  (p.lG-p.lS, 0,    0)])\n",
    "        \n",
    "        # constant component of normal contact velocity (see _getRelativeVelocities function)\n",
    "        wThat = mat([0,\n",
    "                     0,\n",
    "                     0]).T\n",
    "        \n",
    "        return [WN,wNhat,WT,wThat]\n",
    "    \n",
    "    def getRelativeVelocities(self,q,u,t):\n",
    "        return self._getRelativeVelocities(*self.Wmat(q,u,t), u)\n",
    "        \n",
    "    def _getRelativeVelocities(self,WN,wNhat,WT,wThat, u):\n",
    "        γN = WN.T*u + wNhat\n",
    "        γT = WT.T*u + wThat\n",
    "        return γN, γT\n",
    "    \n",
    "    # compute integration step of lenght dt and update state -- corresponds to forward dynamics\n",
    "    def step(self, dt):\n",
    "        \n",
    "        p = self.p # parameters\n",
    "        \n",
    "        stateA = self.history[-1] # stateA = state at beginning of time step\n",
    "        #start integration step\n",
    "        qA = stateA.q\n",
    "        uA = stateA.u\n",
    "        tA = stateA.t\n",
    "        \n",
    "        #calculate midpoint\n",
    "        qM = qA + dt/2*uA\n",
    "        tM = tA+dt/2\n",
    "        hM = self.h(qM,uA,tM)\n",
    "        MM = self.M(qM,uA,tM)\n",
    "\n",
    "        #calculate index set\n",
    "        gNM = self.gapFunction(qM,uA,tM) # contact distances at midpoint\n",
    "        IN = (gNM<=0).A1 # index set at midpoint = all penetrating/closed contacts\n",
    "        nN = np.count_nonzero(IN) #number of closed contacts\n",
    "        \n",
    "        Minv = MM.I # Invert Mass Matrix\n",
    "        \n",
    "        #solve contact problem and end integration step\n",
    "        if nN>0:\n",
    "            \n",
    "            # contact impulses in normal and tangential direction\n",
    "            PN = mat(np.zeros(p.nG)).T\n",
    "            PT = mat(np.zeros(p.nG)).T\n",
    "\n",
    "            # stacked contact force directions (= transposed jacobians of constact velocities)\n",
    "            # for active contacts\n",
    "            WN, wNhat, WT, wThat = self.Wmat(qM,uA,tM)\n",
    "            WNs    = WN[:,IN] \n",
    "            wNhats = wNhat[IN]\n",
    "            WTs    = WT[:,IN] # stacked motion jacobian of tangential constact velocities\n",
    "            wThats = wThat[IN]\n",
    "            \n",
    "            μs  = p.μ[IN]\n",
    "            GNN = WNs.T*Minv*WNs\n",
    "            GNT = WNs.T*Minv*WTs\n",
    "            GTN = WTs.T*Minv*WNs\n",
    "            GTT = WTs.T*Minv*WTs\n",
    "          \n",
    "            rN = p.αr * np.reciprocal(np.diag(GNN))\n",
    "            rT = p.αr * np.reciprocal(np.diag(GTT))\n",
    "            \n",
    "            γNA, γTA = self._getRelativeVelocities(WNs,wNhats,WTs,wThats,uA)\n",
    "            \n",
    "            cN = np.multiply(np.mat(1 + p.ɛN[IN]).T, γNA) + WNs.T*Minv*hM*dt\n",
    "            cT = np.multiply(np.mat(1 + p.ɛT[IN]).T, γTA) + WTs.T*Minv*hM*dt\n",
    "            \n",
    "            PNs = PN[IN]\n",
    "            PTs = PT[IN]\n",
    "            converged=False \n",
    "            iter=0\n",
    "\n",
    "            while not converged and iter<p.maxiter: #Gauss Seidel fixed point iteration\n",
    "                PNs_old = copy.copy(PNs)\n",
    "                PTs_old = copy.copy(PTs)\n",
    "                for j in range(0,nN): # iterate over active contacts\n",
    "                    PNs[j] = proxCN(PNs[j] - rN[j]*(GNN[j,:]*PNs + GNT[j,:]*PTs + cN[j]))\n",
    "                    PTs[j] = proxCT(PTs[j] - rT[j]*(GTN[j,:]*PNs + GTT[j,:]*PTs + cT[j]), μs[j]*PNs[j])\n",
    "                errorN = np.abs(PNs_old-PNs)\n",
    "                errorT = np.abs(PTs_old-PTs)\n",
    "                error = np.max(np.hstack([errorN, errorT]),1)\n",
    "                converged = np.all(error<p.atol)\n",
    "                iter = iter+1\n",
    "                \n",
    "            PN[IN] = PNs #put the contact efforts of the closed contacts in the vector of all contact efforts\n",
    "            PT[IN] = PTs\n",
    "            uE = uA  + Minv*(hM*dt + WNs*PNs + WTs*PTs)\n",
    "            \n",
    "        else:  #all constacts are open\n",
    "            uE = uA  + Minv*hM*dt\n",
    "            converged = True\n",
    "            error = 0\n",
    "\n",
    "        if not converged:\n",
    "            print('not converged')\n",
    "        \n",
    "        tE = tA + dt\n",
    "        qE = qA + (uE+uA)*dt/2; # Symmetric Update\n",
    "        \n",
    "        γNE, γTE = self.getRelativeVelocities(qE, uE, tE)\n",
    "        \n",
    "        if nN==0:\n",
    "            PN = PT = γNA = γTA = self.nGZeros\n",
    "            \n",
    "        self.history.append(State(qE, uE, tE, PN, PT, γNA, γTA, γNE, γTE, IN))\n",
    "    \n",
    "    def getContactNames(self):\n",
    "        return [\"x1\",\"x2\",\"x3\",\"x2opp\",\"x3opp\"]\n",
    "    \n",
    "    def getContactIndices(self):\n",
    "        return [0,1,2,1,2];\n",
    "    \n",
    "    # compute x- and y-coordinates of points in the model figure above\n",
    "    def position(self, q=None):\n",
    "        # Make 2d-Punktarray (with each column as attribute name)\n",
    "        # this is very neat!! :-)\n",
    "        names = [*self.getContactNames(), \"xG\", \"xS\", \"xP\", \"xM\"]\n",
    "        points = Points(np.mat(np.zeros(shape=(2,len(names)))), names= names)\n",
    "        \n",
    "        p = self.p\n",
    "        if q is None:\n",
    "            y,ϕM,ϕS = self.q # gen coordinate\n",
    "        else:\n",
    "            y,ϕM,ϕS = q # gen coordinate\n",
    "                            \n",
    "        points.xM = np.mat([0,y]).T\n",
    "        \n",
    "        rot = lambda ϕ: np.mat([[cos(ϕ), -sin(ϕ)],\n",
    "                                [sin(ϕ), cos(ϕ)]])\n",
    "        \n",
    "        x2ref = np.mat([p.rM,-p.hM]).T\n",
    "        x3ref = np.mat([p.rM,p.hM]).T\n",
    "        \n",
    "        points.x2 = rot(ϕM)*x2ref + points.xM\n",
    "        points.x3 = rot(ϕM)*x3ref + points.xM\n",
    "        \n",
    "        points.x2opp = -rot(ϕM)*x2ref + points.xM\n",
    "        points.x3opp = -rot(ϕM)*x3ref + points.xM\n",
    "        \n",
    "        xGref = np.mat([p.lM,0]).T\n",
    "        xSref = np.mat([p.lG,0]).T\n",
    "        xPref = np.mat([p.lG,p.hS]).T\n",
    "        x1ref = np.mat([p.lG-p.lS,p.hS]).T\n",
    "        \n",
    "        points.xG = rot(ϕM)*xGref + points.xM\n",
    "        points.xS = rot(ϕS)*xSref + points.xG\n",
    "        points.xP = rot(ϕS)*xPref + points.xG\n",
    "        points.x1 = rot(ϕS)*x1ref + points.xG\n",
    "        \n",
    "        return points\n",
    "    \n",
    "# proximal point function onto CN = R_0^+\n",
    "def proxCN(x):\n",
    "    return max(x,0)\n",
    "\n",
    "# proximal point function onto CT = [-a,a]\n",
    "def proxCT(x,a):\n",
    "    return max(min(x,a),-a)"
   ]
  },
  {
   "cell_type": "markdown",
   "metadata": {
    "run_control": {
     "marked": true
    }
   },
   "source": [
    "## Define Parameters for Model"
   ]
  },
  {
   "cell_type": "code",
   "execution_count": null,
   "metadata": {
    "ExecuteTime": {
     "end_time": "2017-08-20T12:46:01.606009Z",
     "start_time": "2017-08-20T12:46:01.541010Z"
    },
    "code_folding": [],
    "collapsed": true,
    "init_cell": true,
    "run_control": {
     "marked": false
    }
   },
   "outputs": [],
   "source": [
    "# System parameters\n",
    "# cφ is missing in the paper\n",
    "pardict = {\n",
    "    'mM' : 0.0003, #[kg]\n",
    "    'JM' : 5e-9, #[kg m2]\n",
    "    'mS' : 0.0045, #[kg]\n",
    "    'JS' : 7e-7, #[kg m2]\n",
    "    'g' : 9.81, #[m/s2]\n",
    "    'cφ' : 0.0056, #[Nm/rad]\n",
    "    'r0' : 0.0025, #[m]\n",
    "    'rM' : 0.0031, #[m]\n",
    "    'hM' : 0.0058, #[m]\n",
    "    'lM' : 0.010, #[m]\n",
    "    'lG' : 0.015, #[m]\n",
    "    'hS' : 0.020, #[m]\n",
    "    'lS' : 0.0201, #[m]\n",
    "    'μ'  : np.array([0.3,0.3,0.3]), #[] - friction coefficients for contacts\n",
    "    'ɛN' : np.array([0.5,0,0]), #[] - restitution coefficience for normal contacts\n",
    "    'ɛT' : np.array([0,0,0]), #[]  - restitution coefficients for tangential contacts\n",
    "    'rtol' : 1e-7,\n",
    "    'atol' : 1e-10,\n",
    "    'maxiter' : 1000,\n",
    "    'αr' : 0.9,\n",
    "    'n' : 3, #number of states\n",
    "    'nG' : 3 #number of contacts\n",
    "}\n",
    "\n",
    "#initial conditions\n",
    "q0 = [0,-0.1036,-0.2788] #[y,φM,φS]\n",
    "u0 = [-0.3411,0,-7.4583] #[yd,φMd,φSd]\n"
   ]
  },
  {
   "cell_type": "markdown",
   "metadata": {
    "run_control": {
     "marked": true
    }
   },
   "source": [
    "## Simulate"
   ]
  },
  {
   "cell_type": "code",
   "execution_count": null,
   "metadata": {
    "ExecuteTime": {
     "end_time": "2017-08-20T12:46:14.809033Z",
     "start_time": "2017-08-20T12:46:01.623344Z"
    },
    "code_folding": [],
    "collapsed": true,
    "run_control": {
     "marked": false
    }
   },
   "outputs": [],
   "source": [
    "# Simulation\n",
    "N  = 1452+11    # Number of time steps\n",
    "dt = 0.0001 # Timestep\n",
    "\n",
    "mywoodpecker = Woodpecker(q0,u0,pardict)\n",
    "for i in range(0,N):\n",
    "    mywoodpecker.step(dt)"
   ]
  },
  {
   "cell_type": "code",
   "execution_count": null,
   "metadata": {
    "ExecuteTime": {
     "end_time": "2017-08-20T12:46:14.892601Z",
     "start_time": "2017-08-20T12:46:14.825625Z"
    },
    "code_folding": [],
    "collapsed": true,
    "run_control": {
     "marked": true
    }
   },
   "outputs": [],
   "source": [
    "q = np.mat([state.q.A1 for state in mywoodpecker.history])\n",
    "u = np.mat([state.u.A1 for state in mywoodpecker.history])\n",
    "t = np.array([state.t  for state in mywoodpecker.history])\n",
    "IN = np.mat([state.IN  for state in mywoodpecker.history])\n",
    "γNE = np.mat([state.γNE.A1  for state in mywoodpecker.history])\n",
    "γTE = np.mat([state.γTE.A1  for state in mywoodpecker.history])\n",
    "PN = np.mat([state.PN.A1  for state in mywoodpecker.history])\n",
    "PT = np.mat([state.PT.A1  for state in mywoodpecker.history])"
   ]
  },
  {
   "cell_type": "markdown",
   "metadata": {
    "run_control": {
     "marked": true
    }
   },
   "source": [
    "## Plot Solution"
   ]
  },
  {
   "cell_type": "code",
   "execution_count": null,
   "metadata": {
    "ExecuteTime": {
     "end_time": "2017-08-20T12:46:18.034563Z",
     "start_time": "2017-08-20T12:46:14.899702Z"
    },
    "code_folding": [
     0
    ],
    "run_control": {
     "marked": false
    },
    "scrolled": false
   },
   "outputs": [],
   "source": [
    "# Plotting\n",
    "plt.close(\"all\")\n",
    "fig1,ax = plt.subplots(6, figsize=(8,8), sharex=True)\n",
    "\n",
    "labelsQ = [r\"$y(t)$\",r\"$\\Phi_M(t)$\", r\"$\\Phi_S(t)$\"]\n",
    "labelsU = [r\"$y'(t)$\",r\"$\\Phi_M{}'(t)$\", r\"$\\Phi_S{}'(t)$\"]\n",
    "\n",
    "ax[0].set_title(r\"Displacement $\\mathbf{q} = [y,\\Phi_M,\\Phi_S]$, units: [m, rad, rad]\"+\"\\n\"+\n",
    "               r\"Velocity $\\mathbf{u} = [y',\\Phi_M{}',\\Phi_S{}']$, units: [m/s, rad/s, rad/s]\", \n",
    "              fontsize=14)\n",
    "for i in range(0,3):\n",
    "    ax[i].plot(t,q[:,i])\n",
    "    ax[i].set_ylabel(labelsQ[i])\n",
    "    ax[i+3].plot(t,u[:,i])\n",
    "    ax[i+3].set_ylabel(labelsU[i])\n",
    "ax[-1].set_xlabel(r\"$t$ [s]\")\n",
    "fig1.tight_layout()\n",
    "\n",
    "fig2,ax = plt.subplots(1,3, figsize=(8,3))\n",
    "ax[1].set_title(r\"Phase Plot\",fontsize=14)\n",
    "for i in range(0,3):\n",
    "    ax[i].set_xlabel(labelsQ[i])\n",
    "    ax[i].set_ylabel(labelsU[i])\n",
    "    ax[i].plot(q[:,i],u[:,i])\n",
    "fig2.tight_layout(pad=0.1)\n",
    "\n",
    "fig3,ax = plt.subplots(2,1, figsize=(8,3), sharex=True)\n",
    "ax[0].set_title(r\"Relative normal and tangential velocity: $\\mathbf{\\gamma}_N^E, \\mathbf{\\gamma}_T^E$\",fontsize=14)\n",
    "ax[0].plot(t, γNE)\n",
    "ax[0].set_ylabel(r\"$\\mathbf{\\gamma}_N^E$\")\n",
    "ax[1].plot(t, γTE)\n",
    "ax[1].set_ylabel(r\"$\\mathbf{\\gamma}_T^E$\")\n",
    "ax[0].legend([r\"Contact 1\", r\"Contact 2\", r\"Contact 3\"])\n",
    "ax[1].legend([r\"Contact 1\", r\"Contact 2\", r\"Contact 3\"])\n",
    "ax[-1].set_xlabel(r\"$t$ [s]\")\n",
    "fig3.tight_layout(pad=0.1)\n",
    "\n",
    "fig4,ax = plt.subplots(1, figsize=(8,4), sharex=True)\n",
    "ax.set_title(r\"$\\mathbf{I}_N^M$: Active Contact Set\",fontsize=14)\n",
    "ax.plot(t, IN)\n",
    "ax.set_xlabel(r\"$\\mathbf{I}_N^M$\")\n",
    "ax.legend([r\"$I_1$\",r\"$I_2$\",r\"$I_3$\"])\n",
    "ax.set_xlabel(r\"$t$ [s]\")\n",
    "fig3.tight_layout(pad=0.1)\n",
    "\n",
    "fig4,ax = plt.subplots(1, figsize=(8,4), sharex=True)\n",
    "contactIdx = 1\n",
    "mask = IN[:,contactIdx].A1 # only where we have contact\n",
    "ax.set_title(r\"Coulomb friction: $|P_T| \\leq \\mu P_N$ for Contact %i\" % contactIdx, fontsize=14)\n",
    "\n",
    "maxTangentialForce = mywoodpecker.p.μ[contactIdx] * PN[mask,contactIdx]\n",
    "tangentialForce    = np.abs(PT[mask,contactIdx])\n",
    "ax.plot(t[mask], maxTangentialForce, \"r\")\n",
    "ax.plot(t[mask], tangentialForce, \"b.\")\n",
    "ax.fill_between(t[mask], tangentialForce.A1, maxTangentialForce.A1, \n",
    "                where=tangentialForce.A1 < maxTangentialForce.A1, facecolor='green', interpolate=True)\n",
    "ax.set_xlim(t[0],t[-1])\n",
    "ax.legend([r\"$\\mu P_N$\",r\"$|P_T|$\",\"sticking phase\"])\n",
    "ax.set_xlabel(r\"$t$ [s]\")\n",
    "fig4.tight_layout(pad=0.1)\n",
    "\n",
    "plt.show()"
   ]
  },
  {
   "cell_type": "markdown",
   "metadata": {
    "run_control": {
     "marked": true
    }
   },
   "source": [
    "## Animate Points"
   ]
  },
  {
   "cell_type": "code",
   "execution_count": null,
   "metadata": {
    "ExecuteTime": {
     "end_time": "2017-08-20T12:46:18.367035Z",
     "start_time": "2017-08-20T12:46:18.039763Z"
    },
    "code_folding": [
     0
    ],
    "run_control": {
     "marked": false
    },
    "scrolled": false
   },
   "outputs": [],
   "source": [
    "# Animate\n",
    "speedUp = 25\n",
    "\n",
    "q = np.mat([state.q.A1 for state in mywoodpecker.history])\n",
    "t = np.array([state.t  for state in mywoodpecker.history])\n",
    "N = len(t)\n",
    "\n",
    "# setup figure, axis\n",
    "fig= plt.figure(figsize=(7,7))\n",
    "ax = fig.add_subplot(111, aspect='equal', \n",
    "                     autoscale_on=False, xlim=(-0.025, 0.05), ylim=(-0.05, 0.025))\n",
    "ax.grid()\n",
    "\n",
    "# setup plot elements \n",
    "line, = ax.plot([], [], 'x')\n",
    "time_template = 'time = %.1fs'\n",
    "time_text = ax.text(0.02, 0.95, '', transform=ax.transAxes)\n",
    "\n",
    "class AnimatorFunc:\n",
    "    def __init__(self,mywoodpecker,line,time_text):\n",
    "        self.mywoodpecker  = mywoodpecker\n",
    "        self.line = line\n",
    "        self.time_text = time_text\n",
    "    \n",
    "    def __call__(self,i):\n",
    "        iFast = i*speedUp % N\n",
    "        self.line.set_data(*mywoodpecker.position(q[iFast,:].A1))\n",
    "        self.time_text.set_text('time = %.2f' % t[iFast])\n",
    "        return self.line, self.time_text\n",
    "\n",
    "animFunc = AnimatorFunc(mywoodpecker,line,time_text)\n",
    "\n",
    "interval = 30\n",
    "\n",
    "# call the animator.  blit=True means only re-draw the parts that have changed.\n",
    "ani = animation.FuncAnimation(fig, animFunc, interval=interval, blit=False, init_func=None)\n",
    "plt.show()"
   ]
  },
  {
   "cell_type": "markdown",
   "metadata": {
    "run_control": {
     "marked": true
    }
   },
   "source": [
    "# SVG Animation\n",
    "**Here we use a SVG template file, where we fill in the solution as `keytimes` and `values` into the `animateTransform` tag.**"
   ]
  },
  {
   "cell_type": "code",
   "execution_count": null,
   "metadata": {
    "ExecuteTime": {
     "end_time": "2017-08-20T12:47:01.090165Z",
     "start_time": "2017-08-20T12:46:18.373533Z"
    },
    "code_folding": [],
    "collapsed": true
   },
   "outputs": [],
   "source": [
    "# Simulate\n",
    "N  = 4300   # Number of time steps\n",
    "dt = 0.0001 # Timestep\n",
    "mywoodpeckerSVG = Woodpecker(q0,u0,pardict)\n",
    "for i in range(0,N):\n",
    "    mywoodpeckerSVG.step(dt)"
   ]
  },
  {
   "cell_type": "code",
   "execution_count": null,
   "metadata": {
    "ExecuteTime": {
     "end_time": "2017-08-20T12:47:01.327434Z",
     "start_time": "2017-08-20T12:47:01.114723Z"
    },
    "code_folding": [],
    "collapsed": true
   },
   "outputs": [],
   "source": [
    "q  = np.mat([state.q.A1 for state in mywoodpeckerSVG.history])\n",
    "u  = np.mat([state.u.A1 for state in mywoodpeckerSVG.history])\n",
    "t  = np.array([state.t  for state in mywoodpeckerSVG.history])\n",
    "PN = np.mat([state.PN.A1 for state in mywoodpeckerSVG.history])\n",
    "PT = np.mat([state.PT.A1 for state in mywoodpeckerSVG.history])\n",
    "IN = np.mat([state.IN for state in mywoodpeckerSVG.history])"
   ]
  },
  {
   "cell_type": "markdown",
   "metadata": {
    "run_control": {
     "marked": true
    }
   },
   "source": [
    "## Prepare Timing Values for SVG Animation"
   ]
  },
  {
   "cell_type": "code",
   "execution_count": null,
   "metadata": {
    "ExecuteTime": {
     "end_time": "2017-08-20T12:47:01.430762Z",
     "start_time": "2017-08-20T12:47:01.334528Z"
    },
    "code_folding": [
     0
    ],
    "run_control": {
     "marked": true
    }
   },
   "outputs": [],
   "source": [
    "# Compute timing values\n",
    "maxFrameRate = 30 # We want max. 30 frames/s\n",
    "speedUpPercentage = 2 # 100% means == realTime\n",
    "nStates = len(t)\n",
    "timeRange = np.array([np.min(t), np.max(t)])\n",
    "print(\"Frame rate:\", maxFrameRate)\n",
    "print(\"Time range: \", timeRange)\n",
    "print(\"Number of states: \", nStates)\n",
    "print(\"Δt:\", dt)\n",
    "\n",
    "timeRangeAnimation = (timeRange / (0.01*speedUpPercentage)) - timeRange[0] # shift to [0,tEnd]\n",
    "print(\"Time range animation: %0.2fs - %0.2fs\" % tuple(timeRangeAnimation))\n",
    "statesForAnimation = int(max(1, min((timeRangeAnimation[1] - timeRangeAnimation[0]) * maxFrameRate, nStates)))\n",
    "print(\"Number of states (accord. to frameRate & speedUp): \", statesForAnimation)"
   ]
  },
  {
   "cell_type": "markdown",
   "metadata": {
    "ExecuteTime": {
     "end_time": "2017-08-12T12:40:19.912493Z",
     "start_time": "2017-08-12T12:40:19.898870Z"
    }
   },
   "source": [
    "## Interpolate Data"
   ]
  },
  {
   "cell_type": "code",
   "execution_count": null,
   "metadata": {
    "ExecuteTime": {
     "end_time": "2017-08-20T12:47:02.040498Z",
     "start_time": "2017-08-20T12:47:01.478675Z"
    },
    "code_folding": [
     0
    ],
    "run_control": {
     "marked": true
    }
   },
   "outputs": [],
   "source": [
    "# Displacement q\n",
    "tIp = np.linspace(timeRange[0],timeRange[1], statesForAnimation)\n",
    "qIp = []\n",
    "for i in range(0,mywoodpeckerSVG.qDim):\n",
    "    qIp.append(np.interp(tIp, t, q[:,i].A1))\n",
    "qIp = np.matrix(qIp).T\n",
    "\n",
    "# Smoothing normal force PN at Contact 1 a little bit :-)\n",
    "# To make it last longer in the animation\n",
    "def runningMean(x, N):\n",
    "    cumsum = np.cumsum(np.insert(x, 0, 0)) \n",
    "    cumsum = (cumsum[N:] - cumsum[:-N]) / N\n",
    "    return cumsum\n",
    "cIdx = mywoodpecker.getContactIndices()\n",
    "N = 4*int(nStates / statesForAnimation)\n",
    "if N > 1:\n",
    "    plt.plot(t,PN[:,0])\n",
    "    PNSmoothed = PN.copy()\n",
    "    PTSmoothed = PT.copy()\n",
    "    INSmoothed = IN.copy()\n",
    "    print(\"Smooting PN with Average-Window: \", N)\n",
    "    PNSmoothed[N-1:,0] = np.mat(runningMean(PN[:,0].A1 , N)).T\n",
    "    PTSmoothed[N-1:,0] = np.mat(runningMean(PT[:,0].A1 , N)).T\n",
    "    INSmoothed[N-1:,0] = np.mat(runningMean(INSmoothed[:,0].A1 , N)).T\n",
    "    \n",
    "\n",
    "PNIp = []\n",
    "PTIp = []\n",
    "INIp = []\n",
    "for i in range(0,PN.shape[1]):\n",
    "    PNIp.append(np.interp(tIp, t, PNSmoothed[:,i].A1))\n",
    "    PTIp.append(np.interp(tIp, t, PTSmoothed[:,i].A1))\n",
    "    INIp.append(np.interp(tIp, t, INSmoothed[:,i].A1))\n",
    "PNIp = np.matrix(PNIp).T\n",
    "PTIp = np.matrix(PTIp).T\n",
    "INIp = np.matrix(INIp).T\n",
    "\n",
    "maxNormalForce     = np.max(PNIp)\n",
    "maxTangentialForce = np.max(PTIp)\n",
    "print(\"Interpolated: Max Normal Force: \", maxNormalForce)\n",
    "print(\"Interpolated: Max Tangential Force: \", maxTangentialForce)\n",
    "\n",
    "# plt.figure(\"normalized PN\")\n",
    "# plt.plot(tIp,PNIp/maxNormalForce)\n",
    "# plt.figure(\"normalized PT\")\n",
    "# plt.plot(tIp,PTIp/maxNormalForce);\n",
    "# plt.figure(\"normalized IN\")\n",
    "# plt.plot(t,INSmoothed[:,0])"
   ]
  },
  {
   "cell_type": "markdown",
   "metadata": {
    "ExecuteTime": {
     "end_time": "2017-08-13T19:29:00.482013Z",
     "start_time": "2017-08-13T19:29:00.466927Z"
    }
   },
   "source": [
    "## Load Template SVG"
   ]
  },
  {
   "cell_type": "code",
   "execution_count": null,
   "metadata": {
    "ExecuteTime": {
     "end_time": "2017-08-20T12:47:02.430867Z",
     "start_time": "2017-08-20T12:47:02.047479Z"
    },
    "code_folding": [
     0
    ],
    "collapsed": true,
    "run_control": {
     "marked": false
    }
   },
   "outputs": [],
   "source": [
    "# Load XML\n",
    "import lxml\n",
    "from lxml import etree as ET\n",
    "from lxml.builder import E\n",
    "\n",
    "templateNr = 2\n",
    "file = open(\"./graphics/WoodpeckerAnimationTemplate%i.svg\" % templateNr,\"r\")\n",
    "xmlDoc = ET.parse(file, parser=ET.XMLParser(remove_blank_text=True))\n",
    "root = xmlDoc.getroot()\n",
    "\n",
    "# Get all animateTransform nodes in the SVG\n",
    "translateSleeve      = root.xpath('//*[@id=\"translateSleeve\"]')[0]\n",
    "rotateSleeve         = root.xpath('//*[@id=\"rotateSleeve\"]')[0]\n",
    "translateWoodpecker  = root.xpath('//*[@id=\"translateWoodpecker\"]')[0]\n",
    "rotateWoodpecker     = root.xpath('//*[@id=\"rotateWoodpecker\"]')[0]\n",
    "springPathAnimation  =  root.xpath('//*[@id=\"springPath\"]')[0]\n",
    "springForceAnimation =  root.xpath('//*[@id=\"springForce\"]')[0]\n",
    "\n",
    "# Add all forces to the XML\n",
    "forceGroup = root.xpath('//*[@id=\"forces\"]')[0]\n",
    "forceNode  = root.xpath('//*[@id=\"force\"]')[0]\n",
    "contactForceNodes = {}\n",
    "for c in mywoodpecker.getContactNames():\n",
    "    id=\"PN-\"+c\n",
    "    contactForceNodes[id] = copy.deepcopy(forceNode)\n",
    "    contactForceNodes[id].attrib[\"id\"] = id\n",
    "    forceGroup.append(contactForceNodes[id])\n",
    "    id=\"PT-\"+c\n",
    "    contactForceNodes[id] = copy.deepcopy(forceNode)\n",
    "    contactForceNodes[id].attrib[\"id\"] = id\n",
    "    forceGroup.append(contactForceNodes[id])\n",
    "# Remove the forceTemplate Node\n",
    "forceNode.getparent().remove(forceNode)\n",
    "    \n",
    "def forEach(f,n): \n",
    "    for i in n: f(i)\n",
    "        \n",
    "allNodes = [translateSleeve, rotateSleeve, translateWoodpecker, rotateWoodpecker, \n",
    "            springPathAnimation, springForceAnimation]\n",
    "\n",
    "def setAnimationTiming(animateTransfNode, beginTime, endTime, keyTimes):\n",
    "    animateTransfNode.attrib[\"begin\"] = \"0s\"\n",
    "    animateTransfNode.attrib[\"dur\"] = \"%ss\" % (endTime - beginTime)\n",
    "    animateTransfNode.attrib[\"repeatCount\"] = \"indefinite\"\n",
    "    animateTransfNode.attrib[\"calcMode\"] = \"linear\"\n",
    "    animateTransfNode.attrib[\"keyTimes\"] = keyTimes\n",
    "    if \"from\" in animateTransfNode.attrib:\n",
    "        del animateTransfNode.attrib[\"from\"]\n",
    "    if \"to\" in animateTransfNode.attrib:\n",
    "        del animateTransfNode.attrib[\"to\"]"
   ]
  },
  {
   "cell_type": "markdown",
   "metadata": {
    "ExecuteTime": {
     "end_time": "2017-08-12T12:38:19.512595Z",
     "start_time": "2017-08-12T12:38:19.497865Z"
    },
    "run_control": {
     "marked": false
    }
   },
   "source": [
    "## SVG Export \n",
    "**Build `keytimes` $\\in  [0,1]$ and corresponding `values` for all `animate`/`animateTransform` nodes and export the templated SVG.**"
   ]
  },
  {
   "cell_type": "markdown",
   "metadata": {
    "ExecuteTime": {
     "end_time": "2017-08-19T14:00:52.994851Z",
     "start_time": "2017-08-19T14:00:52.988704Z"
    }
   },
   "source": [
    "### Build `keyTimes` for all relevant nodes"
   ]
  },
  {
   "cell_type": "code",
   "execution_count": null,
   "metadata": {
    "ExecuteTime": {
     "end_time": "2017-08-20T12:47:05.863960Z",
     "start_time": "2017-08-20T12:47:02.444814Z"
    },
    "code_folding": [
     0
    ],
    "run_control": {
     "marked": false
    }
   },
   "outputs": [],
   "source": [
    "# Building keyTimes\n",
    "keyTimes   = \";\".join([\"%f\" % t for t in np.linspace(0,1, statesForAnimation)])\n",
    "print(\"keyTimes: \", keyTimes[0:50], \"...\")\n",
    "\n",
    "# Adjust all timings of all animateTransform nodes\n",
    "forEach(lambda n : setAnimationTiming(n, timeRangeAnimation[0], timeRangeAnimation[1], keyTimes), allNodes );\n",
    "\n",
    "# Get important values for calculating transformations\n",
    "rOG = np.hstack( [mywoodpeckerSVG.position(qIp[i,:].A1).xG for i in range(0,statesForAnimation)] )\n",
    "rOS = np.hstack( [mywoodpeckerSVG.position(qIp[i,:].A1).xS for i in range(0,statesForAnimation)] )\n",
    "\n",
    "y      = qIp[:,0].A1 # inverted\n",
    "ϕM   = qIp[:,1].A1 # inverted angles in SVG\n",
    "ϕS   = qIp[:,2].A1 # inverted angles in SVG\n",
    "relϕ = ϕS - ϕM\n",
    "maxAbsRelϕ = np.max(np.abs(relϕ))\n",
    "\n",
    "def toSVGUnits(x):\n",
    "    return x*1000;\n",
    "\n",
    "def vec2SVG(x):\n",
    "    x = x.copy() # copy\n",
    "    x[1] *= -1    # y-axis is downwards\n",
    "    return toSVGUnits(x).A1 # in [mm] "
   ]
  },
  {
   "cell_type": "markdown",
   "metadata": {},
   "source": [
    "### Build `values` for the Woodpecker"
   ]
  },
  {
   "cell_type": "code",
   "execution_count": null,
   "metadata": {
    "ExecuteTime": {
     "end_time": "2017-08-20T12:47:06.057358Z",
     "start_time": "2017-08-20T12:47:05.870196Z"
    },
    "code_folding": [
     0
    ],
    "run_control": {
     "marked": true
    }
   },
   "outputs": [],
   "source": [
    "# Building Values for Woodpecker \n",
    "################################\n",
    "valuesTranslate = \";\".join([\"%f,%f\" % tuple(vec2SVG(rOG[:,i])) for i in range(0,statesForAnimation)])\n",
    "valuesRotate    = \";\".join([\"%f\" % np.rad2deg(-ϕS[i]) for i in range(0,statesForAnimation)])\n",
    "translateWoodpecker.attrib[\"values\"] = valuesTranslate\n",
    "rotateWoodpecker.attrib[\"values\"]    = valuesRotate\n",
    "print(\"Translate values Woodpecker: \", valuesTranslate[0:50], \"...\")\n",
    "print(\"Rotate values Woodpecker: \", valuesRotate[0:50], \"...\")"
   ]
  },
  {
   "cell_type": "markdown",
   "metadata": {},
   "source": [
    "### Build `values` for the Sleeve"
   ]
  },
  {
   "cell_type": "code",
   "execution_count": null,
   "metadata": {
    "ExecuteTime": {
     "end_time": "2017-08-20T12:47:06.166496Z",
     "start_time": "2017-08-20T12:47:06.060249Z"
    },
    "code_folding": [
     0
    ],
    "run_control": {
     "marked": true
    }
   },
   "outputs": [],
   "source": [
    "# Building Values for Sleeve\n",
    "############################\n",
    "valuesTranslate = \";\".join([\"%f,%f\" % tuple(vec2SVG(np.mat([0,y[i]]).T)) for i in range(0,statesForAnimation)])\n",
    "valuesRotate    = \";\".join([\"%f\" % np.rad2deg(-ϕM[i]) for i in range(0,statesForAnimation)])\n",
    "translateSleeve.attrib[\"values\"] = valuesTranslate\n",
    "rotateSleeve.attrib[\"values\"]    = valuesRotate\n",
    "print(\"Translate values Sleeve: \", valuesTranslate[0:50], \"...\")\n",
    "print(\"Rotate values Sleeve: \", valuesRotate[0:50], \"...\")"
   ]
  },
  {
   "cell_type": "markdown",
   "metadata": {},
   "source": [
    "### Build `values` for the Spring"
   ]
  },
  {
   "cell_type": "code",
   "execution_count": null,
   "metadata": {
    "ExecuteTime": {
     "end_time": "2017-08-20T12:47:09.276501Z",
     "start_time": "2017-08-20T12:47:06.184547Z"
    },
    "code_folding": [
     0
    ],
    "run_control": {
     "marked": true
    }
   },
   "outputs": [],
   "source": [
    "#Building Values for Spring [1mm]\n",
    "################################\n",
    "springRadius = 0.0015\n",
    "def computeStartEndSpring(y, rOG, rOS, r):\n",
    "    rGM = np.mat([0,y]).T - rOG\n",
    "    rGS = rOS - rOG\n",
    "    start = rGM / np.linalg.norm(rGM) * r + rOG\n",
    "    end   = rGS / np.linalg.norm(rGS) * r + rOG\n",
    "    return start, end\n",
    "\n",
    "def makeSpringData(y, rOG, rOS, r = springRadius):\n",
    "    start, end = computeStartEndSpring(y, rOG, rOS, r)\n",
    "    s = vec2SVG(start)\n",
    "    e = vec2SVG(end)\n",
    "    r = toSVGUnits(r)\n",
    "    # Move to start (M) and make absolute (A) elliptic arc \n",
    "    # with radius rx and ry (Arx,ry) till end pos\n",
    "    return \"M%f,%f A%f,%f 0 1,1 %f,%f\" % (*s,r,r,*e) # for debugging A%f,%f 0 0,1 %f,%f  %(*s,*e)\n",
    "\n",
    "def makeSpringForceValue(relϕ):\n",
    "    # map relative angle to spring thickness\n",
    "    return \"%f\" % ((np.abs(relϕ) / maxAbsRelϕ) * 0.4 + 0.3)\n",
    "\n",
    "valuesSpringData= \";\".join([makeSpringData(y[i], rOG[:,i], rOS[:,i]) for i in range(0,statesForAnimation)])\n",
    "springPathAnimation.attrib[\"values\"] = valuesSpringData\n",
    "\n",
    "valuesSpringForce= \";\".join([makeSpringForceValue(relϕ[i]) for i in range(0,statesForAnimation)])\n",
    "springForceAnimation.attrib[\"values\"] = valuesSpringForce\n",
    "\n",
    "print(\"Path values Spring: \", valuesSpringData[0:50], \"...\")\n",
    "print(\"Force values Spring: \", valuesSpringForce[0:50], \"...\")"
   ]
  },
  {
   "cell_type": "markdown",
   "metadata": {
    "ExecuteTime": {
     "end_time": "2017-08-19T14:03:57.444108Z",
     "start_time": "2017-08-19T14:03:57.441047Z"
    }
   },
   "source": [
    "### Build `values` for the Percussions at each Contact "
   ]
  },
  {
   "cell_type": "code",
   "execution_count": null,
   "metadata": {
    "ExecuteTime": {
     "end_time": "2017-08-20T12:47:22.481351Z",
     "start_time": "2017-08-20T12:47:09.279295Z"
    },
    "code_folding": [
     0
    ],
    "run_control": {
     "marked": true
    }
   },
   "outputs": [],
   "source": [
    "# Building values for all Forces\n",
    "################################\n",
    "\n",
    "def makeContactForcesValue(contactName, rOC, force, normal=True):\n",
    "    maxForceLength = 0.02    \n",
    "    minForceLength = 0.001 # because of arrow tip which fluctuates\n",
    "    s = vec2SVG(rOC)\n",
    "    if normal:\n",
    "        # horizontal\n",
    "        l = toSVGUnits( maxForceLength * force/maxNormalForce + minForceLength ) \n",
    "        if \"opp\" in contactName:\n",
    "            l *= -1 # opposite contact have opposite normal\n",
    "        return \"M%f,%f h%f\" % (*s,l)\n",
    "    else:\n",
    "        l = toSVGUnits(maxForceLength * force/maxNormalForce + minForceLength)\n",
    "        # vertical\n",
    "        l *=-1 # y-axis is downwards\n",
    "        return \"M%f,%f v%f\" % (*s,l)\n",
    "    \n",
    "def makeContactForcesActive(contactName, closed):\n",
    "    if closed:\n",
    "        return \"inline\"\n",
    "    else:\n",
    "        return \"none\"\n",
    "\n",
    "\n",
    "for c,cIdx in zip(mywoodpeckerSVG.getContactNames(), mywoodpeckerSVG.getContactIndices()):\n",
    "    print(\"Building Values for ContactIdx: %i and Point: %s\" % (cIdx,c))\n",
    "    \n",
    "    valuesN = \";\".join([makeContactForcesValue(c, mywoodpeckerSVG.position(qIp[i,:].A1)[c], PNIp[i,cIdx]) \n",
    "                        for i in range(0,statesForAnimation)])\n",
    "    valuesT = \";\".join([makeContactForcesValue(c, mywoodpeckerSVG.position(qIp[i,:].A1)[c], PTIp[i,cIdx], False) \n",
    "                        for i in range(0,statesForAnimation)])\n",
    "    \n",
    "    valuesActiveN = \";\".join([makeContactForcesActive(c,INIp[i,cIdx]) for i in range(0,statesForAnimation)])\n",
    "    \n",
    "    # Normal Direction\n",
    "    ##################\n",
    "    # Path animation\n",
    "    animatePathNode = E.animate(attributeName=\"d\", values=valuesN)\n",
    "    setAnimationTiming(animatePathNode, timeRangeAnimation[0], timeRangeAnimation[1], keyTimes)\n",
    "    contactForceNodes[\"PN-\"+c].append(animatePathNode)\n",
    "    # Display (visible,hidden)\n",
    "    animateDisplayNode = E.animate(attributeName=\"display\", values=valuesActiveN)\n",
    "    setAnimationTiming(animateDisplayNode, timeRangeAnimation[0], timeRangeAnimation[1], keyTimes)\n",
    "    contactForceNodes[\"PN-\"+c].append(animateDisplayNode)\n",
    "    \n",
    "    # Tangential Direction\n",
    "    ######################\n",
    "    animatePathNode = E.animate(attributeName=\"d\", values=valuesT)\n",
    "    setAnimationTiming(animatePathNode, timeRangeAnimation[0], timeRangeAnimation[1], keyTimes)\n",
    "    contactForceNodes[\"PT-\"+c].append(animatePathNode) \n",
    "    contactForceNodes[\"PT-\"+c].append(copy.deepcopy(animateDisplayNode))"
   ]
  },
  {
   "cell_type": "markdown",
   "metadata": {
    "ExecuteTime": {
     "end_time": "2017-08-19T14:04:31.545917Z",
     "start_time": "2017-08-19T14:04:31.541702Z"
    },
    "code_folding": []
   },
   "source": [
    "### Finally Export the XML"
   ]
  },
  {
   "cell_type": "code",
   "execution_count": null,
   "metadata": {
    "ExecuteTime": {
     "end_time": "2017-08-20T12:47:22.529200Z",
     "start_time": "2017-08-20T12:47:22.484254Z"
    },
    "code_folding": [],
    "run_control": {
     "marked": true
    }
   },
   "outputs": [],
   "source": [
    "# Write XML\n",
    "xmlDoc.write(\"WoodpeckerAnimation%i.svg\" % templateNr, pretty_print=True, xml_declaration=True, encoding=\"utf-8\")\n",
    "print(\"XML written!\")"
   ]
  },
  {
   "cell_type": "markdown",
   "metadata": {},
   "source": [
    "![](WoodpeckerAnimation2.svg)"
   ]
  }
 ],
 "metadata": {
  "celltoolbar": "Initialization Cell",
  "hide_input": false,
  "kernelspec": {
   "display_name": "Python 3",
   "language": "python",
   "name": "python3"
  },
  "language_info": {
   "codemirror_mode": {
    "name": "ipython",
    "version": 3
   },
   "file_extension": ".py",
   "mimetype": "text/x-python",
   "name": "python",
   "nbconvert_exporter": "python",
   "pygments_lexer": "ipython3",
   "version": "3.5.2"
  },
  "toc": {
   "colors": {
    "hover_highlight": "#DAA520",
    "navigate_num": "#000000",
    "navigate_text": "#333333",
    "running_highlight": "#FF0000",
    "selected_highlight": "#FFD700",
    "sidebar_border": "#EEEEEE",
    "wrapper_background": "#FFFFFF"
   },
   "moveMenuLeft": true,
   "nav_menu": {
    "height": "83px",
    "width": "252px"
   },
   "navigate_menu": true,
   "number_sections": true,
   "sideBar": true,
   "skip_h1_title": false,
   "threshold": 4,
   "toc_cell": false,
   "toc_section_display": "block",
   "toc_window_display": false,
   "widenNotebook": false
  }
 },
 "nbformat": 4,
 "nbformat_minor": 1
}
